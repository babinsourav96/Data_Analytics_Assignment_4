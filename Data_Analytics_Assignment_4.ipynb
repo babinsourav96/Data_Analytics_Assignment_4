{
  "nbformat": 4,
  "nbformat_minor": 0,
  "metadata": {
    "colab": {
      "provenance": []
    },
    "kernelspec": {
      "name": "python3",
      "display_name": "Python 3"
    },
    "language_info": {
      "name": "python"
    }
  },
  "cells": [
    {
      "cell_type": "markdown",
      "source": [
        "#OOPS QUESTIONS"
      ],
      "metadata": {
        "id": "5vpmXQn_MniK"
      }
    },
    {
      "cell_type": "markdown",
      "source": [
        "1. What is Object-Oriented Programming (OOP)?\n",
        "\n",
        "  - Object-Oriented Programming (OOP) in Python is a programming paradigm that structures code around the concept of \"objects,\" which are instances of \"classes.\" This approach aims to model real-world entities and their interactions, leading to more organized, reusable, and maintainable code."
      ],
      "metadata": {
        "id": "_gtJzJajM2xC"
      }
    },
    {
      "cell_type": "markdown",
      "source": [
        "2. What is a class in OOP?\n",
        "\n",
        "  - In object-oriented programming (OOP), a class is a blueprint or template for creating objects. It defines the structure and behavior (attributes and methods) that its objects will have. Think of it as a user-defined data type. Classes encapsulate data (attributes/properties) and the operations (methods/functions) that can be performed on that data."
      ],
      "metadata": {
        "id": "zqCOUJpmNC4H"
      }
    },
    {
      "cell_type": "markdown",
      "source": [
        "3. What is an object in OOP?\n",
        "\n",
        "  - In Object-Oriented Programming (OOP), an object is a self-contained unit that combines data (attributes or properties) and the functions (methods) that operate on that data. It's essentially an instance of a class, representing a specific entity within a program. Think of a class as a blueprint, and an object as a concrete realization of that blueprint."
      ],
      "metadata": {
        "id": "diIgptEaNQ74"
      }
    },
    {
      "cell_type": "markdown",
      "source": [
        "4. What is the difference between abstraction and encapsulation?\n",
        "\n",
        "  - Abstraction focuses on what an object does, while encapsulation focuses on how it does it.\n",
        "  - Abstraction hides unnecessary details and complexity by exposing only essential information, while encapsulation bundles data and methods that operate on that data within a single unit, also known as a class, and controls access to that data."
      ],
      "metadata": {
        "id": "UHBHXnCxNaE_"
      }
    },
    {
      "cell_type": "markdown",
      "source": [
        "5. What are dunder methods in Python?\n",
        "\n",
        "  - Dunder methods, also known as magic methods or special methods, are predefined methods in Python that have double underscores (or \"dunders\") at the beginning and end of their names, such as __init__, __add__, or __str__."
      ],
      "metadata": {
        "id": "QAveoYXnNrdG"
      }
    },
    {
      "cell_type": "markdown",
      "source": [
        "6.  Explain the concept of inheritance in OOP.\n",
        "\n",
        "  - Inheritance in object-oriented programming (OOP) is a mechanism where a new class (the subclass or child class) is created based on an existing class (the superclass or parent class), inheriting its attributes and methods. This promotes code reusability and allows for creating a hierarchy of classes with shared functionality. Essentially, the subclass gets a \"head start\" by inheriting what the superclass has, and can also add its own unique characteristics."
      ],
      "metadata": {
        "id": "3bJ2LSXcN0Wd"
      }
    },
    {
      "cell_type": "markdown",
      "source": [
        "7. What is polymorphism in OOP?\n",
        "\n",
        "  - Polymorphism in object-oriented programming (OOP) refers to the ability of an object to take on many forms. It allows you to interact with objects of different classes using a single, unified interface. Essentially, it enables a single function or method to operate on different data types or classes, providing flexibility and code reusability."
      ],
      "metadata": {
        "id": "fPvJBjWlN_BF"
      }
    },
    {
      "cell_type": "markdown",
      "source": [
        "8. How is encapsulation achieved in Python?\n",
        "\n",
        "  - Encapsulation in Python, a core principle of Object-Oriented Programming (OOP), involves bundling data (attributes) and the methods that operate on that data within a single unit, which is a class. It also aims to restrict direct access to certain internal details of an object, thereby controlling how external code interacts with it."
      ],
      "metadata": {
        "id": "PvgPV-_XOIK2"
      }
    },
    {
      "cell_type": "markdown",
      "source": [
        "9. What is a constructor in Python?\n",
        "\n",
        "  - In Python, a constructor is a special method used to initialize a newly created object of a class. It is automatically called when an instance of the class is created. The primary purpose of the constructor is to set up the initial state of the object by assigning values to its attributes. Python uses the __init__ method as its constructor."
      ],
      "metadata": {
        "id": "t_WVkhC3Oa41"
      }
    },
    {
      "cell_type": "markdown",
      "source": [
        "10. What are class and static methods in Python?\n",
        "\n",
        "  - A class method is a method that is bound to the class itself, not to an instance of the class. It receives the class as its first implicit argument, conventionally named cls.\n",
        "  - A static method is a method that belongs to the class but does not receive any implicit first argument (neither self for instance nor cls for class). It behaves like a regular function but is logically grouped within the class."
      ],
      "metadata": {
        "id": "kt4yHybQOo7d"
      }
    },
    {
      "cell_type": "markdown",
      "source": [
        "11. What is method overloading in Python?\n",
        "\n",
        "  - Method overloading in Python refers to the ability to define multiple methods within a single class that share the same name but differ in their parameters."
      ],
      "metadata": {
        "id": "raywoHugO4Sl"
      }
    },
    {
      "cell_type": "markdown",
      "source": [
        "12. What is method overriding in OOP?\n",
        "\n",
        "  - Method overriding in object-oriented programming is a feature that allows a subclass to provide a specific implementation of a method that is already defined in its parent class. This allows the subclass to customize or extend the behavior of the inherited method, while maintaining the same method name and signature."
      ],
      "metadata": {
        "id": "UKaiTabGPFZ8"
      }
    },
    {
      "cell_type": "markdown",
      "source": [
        "13. What is a property decorator in Python?\n",
        "\n",
        "  - A property decorator in Python, specifically @property, is a built-in decorator that allows methods within a class to be accessed and managed as if they were attributes. This enables the implementation of \"managed attributes\" or \"properties,\" which encapsulate access to an object's data and allow for custom logic to be executed during attribute retrieval (getting), assignment (setting), or deletion.\n"
      ],
      "metadata": {
        "id": "XJ3_-asbPNbD"
      }
    },
    {
      "cell_type": "markdown",
      "source": [
        "14. Why is polymorphism important in OOP?\n",
        "\n",
        "  - Polymorphism is crucial in object-oriented programming because it enables code reusability, flexibility, and modularity, making it easier to write, maintain, and extend complex software systems. It allows objects of different classes to be treated as objects of a common type, promoting cleaner, more adaptable code."
      ],
      "metadata": {
        "id": "EeUCwXQ3PXFb"
      }
    },
    {
      "cell_type": "markdown",
      "source": [
        "15. What is an abstract class in Python?\n",
        "\n",
        "  - An abstract class in Python is a class that cannot be instantiated directly and is designed to be subclassed by other classes. It serves as a blueprint or template, defining a common interface or structure that its subclasses must adhere to."
      ],
      "metadata": {
        "id": "k-Y88JvIPk5C"
      }
    },
    {
      "cell_type": "markdown",
      "source": [
        "16. What are the advantages of OOP?\n",
        "\n",
        "  - Modularity and Code Organization: OOP allows for breaking down complex problems into smaller, manageable objects, each with its own data and methods.\n",
        "  - Reusability: OOP promotes code reuse through inheritance and polymorphism. This means that you can create new objects based on existing ones, inheriting their properties and methods, or use the same method name for different objects, allowing for flexible and efficient code utilization.\n",
        "  - Flexibility and Extensibility: OOP allows for easy modification and extension of code. New features can be added without significantly altering existing code, making it easier to adapt to changing requirements.\n",
        "  - Maintainability: Encapsulation, a key concept in OOP, hides the internal implementation details of an object, protecting its data and functionality. This encapsulation makes it easier to maintain and update code without affecting other parts of the system.\n",
        "  - Data Security: OOP's encapsulation feature helps in protecting sensitive data by restricting access to it. This ensures that data is only accessed and modified by authorized methods within the object, improving data security."
      ],
      "metadata": {
        "id": "KrdSB55HPuBC"
      }
    },
    {
      "cell_type": "markdown",
      "source": [
        "17. What is the difference between a class variable and an instance variable?\n",
        "\n",
        " - Class variables are associated with the class itself and are shared by all instances of that class, while instance variables are specific to each individual object (instance) of the class."
      ],
      "metadata": {
        "id": "IaDhOIJJQQ_k"
      }
    },
    {
      "cell_type": "markdown",
      "source": [
        "18. What is multiple inheritance in Python?\n",
        "\n",
        "  - Multiple inheritance in Python is a feature that allows a class to inherit attributes and methods from more than one parent class. This means a single child class can be derived from multiple base classes, effectively combining the functionalities of all its parent classes."
      ],
      "metadata": {
        "id": "1r6kXknQQeVy"
      }
    },
    {
      "cell_type": "markdown",
      "source": [
        "19. Explain the purpose of ‘’__str__’ and ‘__repr__’ ‘ methods in Python.\n",
        "\n",
        "  - __str__ (for readability):\n",
        "      - This method is intended to return a \"user-friendly\" or \"human-readable\" string representation of an object.\n",
        "      - It is typically called by functions like print() and str().\n",
        "      - The output should be easy to understand for someone who might not be familiar with the object's internal structure, focusing on clarity and conciseness.\n",
        "      - For example, a Person object's __str__ might return \"John Doe (Age: 30)\".\n",
        "\n",
        "  - __repr__ (for unambiguity/debugging):\n",
        "      - This method is intended to return a \"developer-friendly\" or \"unambiguous\" string representation of an object.\n",
        "      - It is typically called by the repr() function and by the interactive Python interpreter when an object is evaluated (e.g., typing an object's variable name in the REPL).\n",
        "      - The output should ideally be a string that, if passed to eval(), would recreate the object (though this is not always strictly possible). It should provide enough detail for debugging and understanding the object's state.\n",
        "      - For example, the Person object's __repr__ might return Person(name='John Doe', age=30)."
      ],
      "metadata": {
        "id": "TPEhcglsQobo"
      }
    },
    {
      "cell_type": "markdown",
      "source": [
        "20. What is the significance of the ‘super()’ function in Python?\n",
        "\n",
        "  - The super() function in Python holds significant importance in the context of object-oriented programming, particularly concerning inheritance. Its primary role is to provide a mechanism for a subclass to access methods and properties of its parent (or super) class."
      ],
      "metadata": {
        "id": "QmGOjf7sSeVu"
      }
    },
    {
      "cell_type": "markdown",
      "source": [
        "21. What is the significance of the __del__ method in Python?\n",
        "\n",
        "  - The __del__ method in Python, also known as the destructor, is a special method called when an object is about to be garbage collected. Its primary significance lies in enabling resource cleanup."
      ],
      "metadata": {
        "id": "5p7UX5ixSopG"
      }
    },
    {
      "cell_type": "markdown",
      "source": [
        "22. What is the difference between @staticmethod and @classmethod in Python?\n",
        "\n",
        "  - The primary difference between @staticmethod and @classmethod in Python lies in how they interact with the class and its instances:\n",
        "    @classmethod:\n",
        "      - Takes the class itself as the first argument, conventionally named cls.\n",
        "      - Can access and modify class-level attributes and methods.\n",
        "      - Often used for factory methods, which are alternative ways to create instances of the class.\n",
        "    @staticmethod:\n",
        "      - Does not take any specific first argument (neither self for instance nor cls for class).\n",
        "      - Cannot access or modify class or instance state.\n",
        "      - Behaves like a regular function but is logically grouped within a class because its functionality relates to the class in some way, but without needing access to the class's internal state.\n",
        "      - Often used for utility functions that don't depend on instance or class-specific data."
      ],
      "metadata": {
        "id": "bWmriuetS4Tk"
      }
    },
    {
      "cell_type": "markdown",
      "source": [
        "23. How does polymorphism work in Python with inheritance?\n",
        "  - Polymorphism in Python, when combined with inheritance, allows objects of different classes to be treated as objects of a common type, while still exhibiting their specific behaviors. This is primarily achieved through method overriding."
      ],
      "metadata": {
        "id": "y7inGhfzTMYN"
      }
    },
    {
      "cell_type": "markdown",
      "source": [
        "24. What is method chaining in Python OOP?\n",
        "\n",
        "  - Method chaining in Python Object-Oriented Programming (OOP) is a technique where multiple methods are called sequentially on the same object in a single line of code. This is achieved by having each method in the chain return the object itself (self), allowing the subsequent method to be invoked on the modified object."
      ],
      "metadata": {
        "id": "rgJmFeKATVmV"
      }
    },
    {
      "cell_type": "markdown",
      "source": [
        "25.  What is the purpose of the __call__ method in Python?\n",
        "\n",
        "  - The purpose of the __call__ method in Python is to make instances of a class callable, allowing them to be invoked like functions. When an object that has a __call__ method defined is treated as a function (e.g., obj(arg1, arg2)), Python automatically executes the __call__ method of that object, passing any arguments provided during the call."
      ],
      "metadata": {
        "id": "BqQInz_pTdxj"
      }
    },
    {
      "cell_type": "markdown",
      "source": [
        "#Practical Questions"
      ],
      "metadata": {
        "id": "Ze2JsQVv6wBE"
      }
    },
    {
      "cell_type": "code",
      "source": [
        "# Create a parent class Animal with a method speak() that prints a generic message. Create a child class Dog that overrides the speak() method to print \"Bark!\".\n",
        "\n",
        "class Animal:\n",
        "    def speak(self):\n",
        "        print(\"This animal makes a sound.\")\n",
        "\n",
        "class Dog(Animal):\n",
        "    def speak(self):\n",
        "        print(\"The dog barks.\")\n",
        "\n",
        "dog = Dog()\n",
        "dog.speak()"
      ],
      "metadata": {
        "colab": {
          "base_uri": "https://localhost:8080/"
        },
        "id": "IHK-M7hx60H_",
        "outputId": "0abb7fea-cc15-40e8-f77a-2ed70d2f07ef"
      },
      "execution_count": null,
      "outputs": [
        {
          "output_type": "stream",
          "name": "stdout",
          "text": [
            "The dog barks.\n"
          ]
        }
      ]
    },
    {
      "cell_type": "code",
      "source": [
        "# Write a program to create an abstract class Shape with a method area(). Derive classes Circle and Rectangle from it and implement the area() method in both.\n",
        "\n",
        "from abc import ABC, abstractmethod\n",
        "import math\n",
        "\n",
        "class Shape(ABC):\n",
        "    @abstractmethod\n",
        "    def area(self):\n",
        "        pass\n",
        "\n",
        "class Circle(Shape):\n",
        "    def __init__(self, radius):\n",
        "        self.radius = radius\n",
        "\n",
        "    def area(self):\n",
        "        return math.pi * self.radius**2\n",
        "\n",
        "class Rectangle(Shape):\n",
        "    def __init__(self, length, width):\n",
        "        self.length = length\n",
        "        self.width = width\n",
        "\n",
        "    def area(self):\n",
        "        return self.length * self.width\n",
        "\n",
        "circle = Circle(5)\n",
        "rectangle = Rectangle(4, 6)\n",
        "\n",
        "print(f\"Area of circle: {circle.area()}\")\n",
        "print(f\"Area of rectangle: {rectangle.area()}\")"
      ],
      "metadata": {
        "colab": {
          "base_uri": "https://localhost:8080/"
        },
        "id": "-bPkgw-87Ldo",
        "outputId": "e8e3b5b6-f5a0-4641-b9b1-d5369c18a663"
      },
      "execution_count": null,
      "outputs": [
        {
          "output_type": "stream",
          "name": "stdout",
          "text": [
            "Area of circle: 78.53981633974483\n",
            "Area of rectangle: 24\n"
          ]
        }
      ]
    },
    {
      "cell_type": "code",
      "source": [
        "#  Implement a multi-level inheritance scenario where a class Vehicle has an attribute type. Derive a class Car and further derive a class Electric Car that adds a battery attribute.\n",
        "\n",
        "class Vehicle:\n",
        "    def __init__(self, type):\n",
        "        self.type = type\n",
        "\n",
        "    def display_type(self):\n",
        "        print(f\"Vehicle type: {self.type}\")\n",
        "\n",
        "class Car(Vehicle):\n",
        "    def __init__(self, type, model):\n",
        "        super().__init__(type)\n",
        "        self.model = model\n",
        "\n",
        "    def display_car_info(self):\n",
        "        print(f\"Car model: {self.model}\")\n",
        "\n",
        "class ElectricCar(Car):\n",
        "    def __init__(self, type, model, battery):\n",
        "        super().__init__(type, model)\n",
        "        self.battery = battery\n",
        "\n",
        "    def display_electric_info(self):\n",
        "        print(f\"Battery capacity: {self.battery}\")\n",
        "\n",
        "vehicle = Vehicle(\"Regular\")\n",
        "vehicle.display_type()\n",
        "\n",
        "car = Car(\"Car\", \"Sedan\")\n",
        "car.display_type()\n",
        "car.display_car_info()\n",
        "\n",
        "electric_car = ElectricCar(\"Electric\", \"Tesla Model S\", \"100 kWh\")\n",
        "electric_car.display_type()\n",
        "electric_car.display_car_info()\n",
        "electric_car.display_electric_info()"
      ],
      "metadata": {
        "colab": {
          "base_uri": "https://localhost:8080/"
        },
        "id": "uE7tE6WH9B6Y",
        "outputId": "e0ef1db6-fff3-43c8-d925-d4ca70ef0757"
      },
      "execution_count": null,
      "outputs": [
        {
          "output_type": "stream",
          "name": "stdout",
          "text": [
            "Vehicle type: Regular\n",
            "Vehicle type: Car\n",
            "Car model: Sedan\n",
            "Vehicle type: Electric\n",
            "Car model: Tesla Model S\n",
            "Battery capacity: 100 kWh\n"
          ]
        }
      ]
    },
    {
      "cell_type": "code",
      "source": [
        "# Demonstrate polymorphism by creating a base class Bird with a method fly(). Create two derived classes Sparrow and Penguin that override the fly() method.\n",
        "\n",
        "class Bird:\n",
        "    def fly(self):\n",
        "        print(\"The bird is flying.\")\n",
        "\n",
        "class Sparrow(Bird):\n",
        "    def fly(self):\n",
        "        print(\"A sparrow is flying with great speed.\")\n",
        "\n",
        "class Penguin(Bird):\n",
        "    def fly(self):\n",
        "        print(\"A penguin cannot fly, it swims.\")\n",
        "\n",
        "bird = Bird()\n",
        "sparrow = Sparrow()\n",
        "penguin = Penguin()\n",
        "\n",
        "bird.fly()\n",
        "sparrow.fly()\n",
        "penguin.fly()"
      ],
      "metadata": {
        "colab": {
          "base_uri": "https://localhost:8080/"
        },
        "id": "sUHO2ra-9Pzp",
        "outputId": "6d8cf158-efa6-474c-c706-ca712ee20129"
      },
      "execution_count": null,
      "outputs": [
        {
          "output_type": "stream",
          "name": "stdout",
          "text": [
            "The bird is flying.\n",
            "A sparrow is flying with great speed.\n",
            "A penguin cannot fly, it swims.\n"
          ]
        }
      ]
    },
    {
      "cell_type": "code",
      "source": [
        "# Write a program to demonstrate encapsulation by creating a class BankAccount with private attributes balance and methods to deposit, withdraw, and check balance.\n",
        "\n",
        "class BankAccount:\n",
        "    def __init__(self, initial_balance=0):\n",
        "        self.__balance = initial_balance\n",
        "\n",
        "    def deposit(self, amount):\n",
        "        if amount > 0:\n",
        "            self.__balance += amount\n",
        "            print(f\"Deposited Rs.{amount}. New balance: Rs.{self.__balance}\")\n",
        "        else:\n",
        "            print(\"Invalid deposit amount.\")\n",
        "\n",
        "    def withdraw(self, amount):\n",
        "        if 0 < amount <= self.__balance:\n",
        "            self.__balance -= amount\n",
        "            print(f\"Withdrew Rs.{amount}. New balance: Rs.{self.__balance}\")\n",
        "        else:\n",
        "            print(\"Invalid withdrawal amount or insufficient funds.\")\n",
        "\n",
        "    def get_balance(self):\n",
        "        return self.__balance\n",
        "\n",
        "account = BankAccount(100)\n",
        "print(f\"Initial balance: Rs.{account.get_balance()}\")\n",
        "\n",
        "account.deposit(50)\n",
        "account.withdraw(20)\n",
        "account.withdraw(150)  # Attempt to withdraw more than balance\n",
        "account.deposit(-20) #Invalid amount\n",
        "print(f\"Final balance: Rs.{account.get_balance()}\")"
      ],
      "metadata": {
        "colab": {
          "base_uri": "https://localhost:8080/"
        },
        "id": "VR7VouSl9uad",
        "outputId": "86d968e0-0760-4a63-c747-17a3c11cfb7c"
      },
      "execution_count": null,
      "outputs": [
        {
          "output_type": "stream",
          "name": "stdout",
          "text": [
            "Initial balance: Rs.100\n",
            "Deposited Rs.50. New balance: Rs.150\n",
            "Withdrew Rs.20. New balance: Rs.130\n",
            "Invalid withdrawal amount or insufficient funds.\n",
            "Invalid deposit amount.\n",
            "Final balance: Rs.130\n"
          ]
        }
      ]
    },
    {
      "cell_type": "code",
      "source": [
        "# Demonstrate runtime polymorphism using a method play() in a base class Instrument. Derive classes Guitar and Piano that implement their own version of play().\n",
        "\n",
        "class Instrument:\n",
        "    def play(self):\n",
        "        print(\"Playing a generic instrument sound.\")\n",
        "\n",
        "class Guitar(Instrument):\n",
        "    def play(self):\n",
        "        print(\"Strumming a guitar.\")\n",
        "\n",
        "class Piano(Instrument):\n",
        "    def play(self):\n",
        "        print(\"Playing keys on a piano.\")\n",
        "\n",
        "def make_instrument_play(instrument):\n",
        "    instrument.play()\n",
        "\n",
        "guitar = Guitar()\n",
        "piano = Piano()\n",
        "generic_instrument = Instrument()\n",
        "\n",
        "print(\"Demonstrating polymorphism:\")\n",
        "make_instrument_play(guitar)\n",
        "make_instrument_play(piano)\n",
        "make_instrument_play(generic_instrument)"
      ],
      "metadata": {
        "colab": {
          "base_uri": "https://localhost:8080/"
        },
        "id": "dUdYlMbu-Mfy",
        "outputId": "6a6559dd-5d28-475d-bd93-7001118dab9c"
      },
      "execution_count": null,
      "outputs": [
        {
          "output_type": "stream",
          "name": "stdout",
          "text": [
            "Demonstrating polymorphism:\n",
            "Strumming a guitar.\n",
            "Playing keys on a piano.\n",
            "Playing a generic instrument sound.\n"
          ]
        }
      ]
    },
    {
      "cell_type": "code",
      "source": [
        "#  Create a class MathOperations with a class method add_numbers() to add two numbers and a static method subtract_numbers() to subtract two numbers.\n",
        "\n",
        "class MathOperations:\n",
        "    @classmethod\n",
        "    def add_numbers(cls, num1, num2):\n",
        "        return num1 + num2\n",
        "\n",
        "    @staticmethod\n",
        "    def subtract_numbers(num1, num2):\n",
        "        return num1 - num2\n",
        "\n",
        "sum_result = MathOperations.add_numbers(10, 5)\n",
        "print(f\"Sum: {sum_result}\")\n",
        "\n",
        "difference_result = MathOperations.subtract_numbers(10, 5)\n",
        "print(f\"Difference: {difference_result}\")"
      ],
      "metadata": {
        "colab": {
          "base_uri": "https://localhost:8080/"
        },
        "id": "2cBEqasL-teJ",
        "outputId": "1b218ca4-1703-4159-ff11-adfe10d6fb1e"
      },
      "execution_count": null,
      "outputs": [
        {
          "output_type": "stream",
          "name": "stdout",
          "text": [
            "Sum: 15\n",
            "Difference: 5\n"
          ]
        }
      ]
    },
    {
      "cell_type": "code",
      "source": [
        "# Implement a class Person with a class method to count the total number of persons created.\n",
        "\n",
        "class Person:\n",
        "    _person_count = 0\n",
        "\n",
        "    def __init__(self, name):\n",
        "        self.name = name\n",
        "        Person._person_count += 1\n",
        "\n",
        "    @classmethod\n",
        "    def get_total_people(cls):\n",
        "        return cls._person_count\n",
        "\n",
        "person1 = Person(\"Sourav\")\n",
        "person2 = Person(\"Babin\")\n",
        "person3 = Person(\"Mou\")\n",
        "\n",
        "print(f\"Total number of people created: {Person.get_total_people()}\")"
      ],
      "metadata": {
        "colab": {
          "base_uri": "https://localhost:8080/"
        },
        "id": "pki6h4C2ElNd",
        "outputId": "1721cbcc-aa53-4db0-b6ca-9b0ab6d3f9e4"
      },
      "execution_count": null,
      "outputs": [
        {
          "output_type": "stream",
          "name": "stdout",
          "text": [
            "Total number of people created: 3\n"
          ]
        }
      ]
    },
    {
      "cell_type": "code",
      "source": [
        "# Write a class Fraction with attributes numerator and denominator. Override the str method to display the fraction as \"numerator/denominator\".\n",
        "\n",
        "class Fraction:\n",
        "    def __init__(self, numerator, denominator):\n",
        "        self.numerator = numerator\n",
        "        self.denominator = denominator\n",
        "\n",
        "    def __str__(self):\n",
        "        return f\"{self.numerator}/{self.denominator}\"\n",
        "\n",
        "    from fractions import Fraction\n",
        "    x = Fraction(1,4)\n",
        "    print(x)"
      ],
      "metadata": {
        "colab": {
          "base_uri": "https://localhost:8080/"
        },
        "id": "-x2MTc1EFOKN",
        "outputId": "c4850468-4679-410d-feaf-49b9f2ef3031"
      },
      "execution_count": null,
      "outputs": [
        {
          "output_type": "stream",
          "name": "stdout",
          "text": [
            "1/4\n"
          ]
        }
      ]
    },
    {
      "cell_type": "code",
      "source": [
        "#  Demonstrate operator overloading by creating a class Vector and overriding the add method to add two vectors.\n",
        "\n",
        "class Vector:\n",
        "    def __init__(self, x, y):\n",
        "        self.x = x\n",
        "        self.y = y\n",
        "\n",
        "    def __add__(self, other):\n",
        "        if isinstance(other, Vector):\n",
        "            return Vector(self.x + other.x, self.y + other.y)\n",
        "        else:\n",
        "            raise TypeError(\"Unsupported operand type for +: 'Vector' and '{}'\".format(type(other).__name__))\n",
        "\n",
        "    def __str__(self):\n",
        "        return f\"Vector({self.x}, {self.y})\"\n",
        "\n",
        "vector1 = Vector(2, 3)\n",
        "vector2 = Vector(1, 5)\n",
        "\n",
        "sum_vector = vector1 + vector2\n",
        "\n",
        "print(f\"Vector 1: {vector1}\")\n",
        "print(f\"Vector 2: {vector2}\")\n",
        "print(f\"Sum Vector: {sum_vector}\")\n",
        "\n",
        "try:\n",
        "    invalid_sum = vector1 + 10\n",
        "except TypeError as e:\n",
        "    print(f\"Error: {e}\")"
      ],
      "metadata": {
        "colab": {
          "base_uri": "https://localhost:8080/"
        },
        "id": "go-XIkGHIhvb",
        "outputId": "e1381f2a-15c7-4aa4-b13d-97537b874fba"
      },
      "execution_count": null,
      "outputs": [
        {
          "output_type": "stream",
          "name": "stdout",
          "text": [
            "Vector 1: Vector(2, 3)\n",
            "Vector 2: Vector(1, 5)\n",
            "Sum Vector: Vector(3, 8)\n",
            "Error: Unsupported operand type for +: 'Vector' and 'int'\n"
          ]
        }
      ]
    },
    {
      "cell_type": "code",
      "source": [
        "# Create a class Person with attributes name and age. Add a method greet() that prints \"Hello, my name is {name} and I am {age} years old.\"\n",
        "\n",
        "class Person:\n",
        "    def __init__(self, name, age):\n",
        "        self.name = name\n",
        "        self.age = age\n",
        "\n",
        "    def greet(self):\n",
        "        print(f\"Hello, my name is {self.name} and I am {self.age} years old.\")\n",
        "\n",
        "person1 = Person(\"Sourav\", 29)\n",
        "person1.greet()"
      ],
      "metadata": {
        "colab": {
          "base_uri": "https://localhost:8080/"
        },
        "id": "IQEQYZAtRd7j",
        "outputId": "a9f53236-a6fd-4def-fc0e-30cfc0f70a4c"
      },
      "execution_count": null,
      "outputs": [
        {
          "output_type": "stream",
          "name": "stdout",
          "text": [
            "Hello, my name is Sourav and I am 29 years old.\n"
          ]
        }
      ]
    },
    {
      "cell_type": "code",
      "source": [
        "# Implement a class Student with attributes name and grades. Create a method average_grade() to compute the average of the grades.\n",
        "\n",
        "class Student:\n",
        "    def __init__(self, name, grades):\n",
        "        self.name = name\n",
        "        self.grades = grades\n",
        "\n",
        "    def average_grade(self):\n",
        "        if not self.grades:\n",
        "            return 0\n",
        "        return sum(self.grades) / len(self.grades)\n",
        "\n",
        "student1 = Student(\"Sourav\", [85.5, 90, 78.2, 92.0])\n",
        "print(f\"{student1.name}'s average grade: {student1.average_grade()}\")\n",
        "\n",
        "student2 = Student(\"Babin\", [])\n",
        "print(f\"{student2.name}'s average grade: {student2.average_grade()}\")"
      ],
      "metadata": {
        "colab": {
          "base_uri": "https://localhost:8080/"
        },
        "id": "x0BQ-KKZRxad",
        "outputId": "59e68603-a37d-48a3-bc9f-51aebac3765e"
      },
      "execution_count": null,
      "outputs": [
        {
          "output_type": "stream",
          "name": "stdout",
          "text": [
            "Sourav's average grade: 86.425\n",
            "Babin's average grade: 0\n"
          ]
        }
      ]
    },
    {
      "cell_type": "code",
      "source": [
        "# Create a class Rectangle with methods set_dimensions() to set the dimensions and area() to calculate the area.\n",
        "\n",
        "class Rectangle:\n",
        "    def __init__(self):\n",
        "        self.length = 0\n",
        "        self.width = 0\n",
        "\n",
        "    def set_dimensions(self, length, width):\n",
        "        self.length = length\n",
        "        self.width = width\n",
        "\n",
        "    def area(self):\n",
        "        return self.length * self.width\n",
        "\n",
        "rectangle = Rectangle()\n",
        "rectangle.set_dimensions(5, 10)\n",
        "print(f\"The area of the rectangle is: {rectangle.area()}\")"
      ],
      "metadata": {
        "colab": {
          "base_uri": "https://localhost:8080/"
        },
        "id": "pvqlmPieSExe",
        "outputId": "2be9f7e5-3991-42cf-e51d-921852003ad3"
      },
      "execution_count": null,
      "outputs": [
        {
          "output_type": "stream",
          "name": "stdout",
          "text": [
            "The area of the rectangle is: 50\n"
          ]
        }
      ]
    },
    {
      "cell_type": "code",
      "source": [
        "# Create a class Employee with a method calculate_salary() that computes the salary based on hours worked and hourly rate. Create a derived class Manager that adds a bonus to the salary.\n",
        "\n",
        "class Employee:\n",
        "    def __init__(self, name, hourly_rate):\n",
        "        self.name = name\n",
        "        self.hourly_rate = hourly_rate\n",
        "\n",
        "    def calculate_salary(self, hours_worked):\n",
        "        return hours_worked * self.hourly_rate\n",
        "\n",
        "class Manager(Employee):\n",
        "    def __init__(self, name, hourly_rate, bonus):\n",
        "        super().__init__(name, hourly_rate)\n",
        "        self.bonus = bonus\n",
        "\n",
        "    def calculate_salary(self, hours_worked):\n",
        "        base_salary = super().calculate_salary(hours_worked)\n",
        "        return base_salary + self.bonus\n",
        "\n",
        "if __name__ == \"__main__\":\n",
        "    employee1 = Employee(\"Sourav\", 150)\n",
        "    print(f\"{employee1.name}'s salary for 35 hours: Rs.{employee1.calculate_salary(35):.2f}\")\n",
        "    print(f\"{employee1.name}'s salary for 45 hours: Rs.{employee1.calculate_salary(45):.2f}\")\n",
        "\n",
        "    manager1 = Manager(\"Babin\", 150, 1000)\n",
        "    print(f\"{manager1.name}'s salary for 35 hours: Rs.{manager1.calculate_salary(40):.2f}\")\n",
        "    print(f\"{manager1.name}'s salary for 45 hours: Rs.{manager1.calculate_salary(50):.2f}\")\n",
        "\n"
      ],
      "metadata": {
        "colab": {
          "base_uri": "https://localhost:8080/"
        },
        "id": "bWZjQGXQTR-K",
        "outputId": "efd734c5-71ba-4c15-8e78-716c625ae587"
      },
      "execution_count": 8,
      "outputs": [
        {
          "output_type": "stream",
          "name": "stdout",
          "text": [
            "Sourav's salary for 35 hours: Rs.5250.00\n",
            "Sourav's salary for 45 hours: Rs.6750.00\n",
            "Babin's salary for 35 hours: Rs.7000.00\n",
            "Babin's salary for 45 hours: Rs.8500.00\n"
          ]
        }
      ]
    },
    {
      "cell_type": "code",
      "source": [
        "#  Create a class Product with attributes name, price, and quantity. Implement a method total_price() that calculates the total price of the product.\n",
        "\n",
        "class Product:\n",
        "    def __init__(self, name, price, quantity):\n",
        "        self.name = name\n",
        "        self.price = price\n",
        "        self.quantity = quantity\n",
        "\n",
        "    def total_price(self):\n",
        "        return self.price * self.quantity\n",
        "\n",
        "Rice = Product(\"Rice\", 22, 1)\n",
        "Pulses = Product(\"Pulses\", 25, 2)\n",
        "print(f\"The total price of Rice is: {Rice.total_price()}\")\n",
        "print(f\"The total price of Pulses is: {Pulses.total_price()}\")"
      ],
      "metadata": {
        "colab": {
          "base_uri": "https://localhost:8080/"
        },
        "id": "UGeLOD-sTnPB",
        "outputId": "d190c088-b33c-4591-898f-137166e78e1e"
      },
      "execution_count": null,
      "outputs": [
        {
          "output_type": "stream",
          "name": "stdout",
          "text": [
            "The total price of Rice is: 22\n",
            "The total price of Pulses is: 50\n"
          ]
        }
      ]
    },
    {
      "cell_type": "code",
      "source": [
        "# Create a class Animal with an abstract method sound(). Create two derived classes Cow and Sheep that implement the sound() method.\n",
        "\n",
        "from abc import ABC, abstractmethod\n",
        "\n",
        "class Animal(ABC):\n",
        "    @abstractmethod\n",
        "    def sound(self):\n",
        "        pass\n",
        "\n",
        "class Cow(Animal):\n",
        "    def sound(self):\n",
        "        return \"Moo\"\n",
        "\n",
        "class Sheep(Animal):\n",
        "    def sound(self):\n",
        "        return \"Baa\"\n",
        "\n",
        "cow = Cow()\n",
        "sheep = Sheep()\n",
        "\n",
        "print(f\"A cow says: {cow.sound()}\")\n",
        "print(f\"A sheep says: {sheep.sound()}\")"
      ],
      "metadata": {
        "colab": {
          "base_uri": "https://localhost:8080/"
        },
        "id": "YImh9J6DcKJM",
        "outputId": "85acfe48-e74d-42cc-d430-486574eb1a0c"
      },
      "execution_count": null,
      "outputs": [
        {
          "output_type": "stream",
          "name": "stdout",
          "text": [
            "A cow says: Moo\n",
            "A sheep says: Baa\n"
          ]
        }
      ]
    },
    {
      "cell_type": "code",
      "source": [
        "# Create a class Book with attributes title, author, and year_published. Add a method get_book_info() that returns a formatted string with the book's details.\n",
        "\n",
        "class Book:\n",
        "    def __init__(self, title, author, year_published):\n",
        "        self.title = title\n",
        "        self.author = author\n",
        "        self.year_published = year_published\n",
        "\n",
        "    def get_book_info(self):\n",
        "        return f\"Title: {self.title}\\nAuthor: {self.author}\\nYear Published: {self.year_published}\"\n",
        "\n",
        "if __name__ == \"__main__\":\n",
        "    book1 = Book(\"The Great Gatsby\", \"F. Scott Fitzgerald\", 1925)\n",
        "    print(book1.get_book_info())\n",
        "\n",
        "    print(\"\\n---\")\n",
        "\n",
        "    book2 = Book(\"1984\", \"George Orwell\", 1949)\n",
        "    print(book2.get_book_info())"
      ],
      "metadata": {
        "colab": {
          "base_uri": "https://localhost:8080/"
        },
        "id": "UWOecmNAiVvd",
        "outputId": "3c530e40-d4a3-40de-e949-c3a6386879ee"
      },
      "execution_count": 1,
      "outputs": [
        {
          "output_type": "stream",
          "name": "stdout",
          "text": [
            "Title: The Great Gatsby\n",
            "Author: F. Scott Fitzgerald\n",
            "Year Published: 1925\n",
            "\n",
            "---\n",
            "Title: 1984\n",
            "Author: George Orwell\n",
            "Year Published: 1949\n"
          ]
        }
      ]
    },
    {
      "cell_type": "code",
      "source": [
        " # Create a class House with attributes address and price. Create a derived class Mansion that adds an attribute number_of_rooms.\n",
        "\n",
        " class House:\n",
        "    def __init__(self, address, price):\n",
        "        self.address = address\n",
        "        self.price = price\n",
        "\n",
        "    def display_info(self):\n",
        "        return f\"Address: {self.address}, Price: Rs.{self.price:,.2f}\"\n",
        "\n",
        "class Mansion(House):\n",
        "    def __init__(self, address, price, number_of_rooms):\n",
        "        super().__init__(address, price)\n",
        "        self.number_of_rooms = number_of_rooms\n",
        "\n",
        "    def display_info(self):\n",
        "        return f\"{super().display_info()}, Number of Rooms: {self.number_of_rooms}\"\n",
        "\n",
        "if __name__ == \"__main__\":\n",
        "    my_house = House(\"123 Main St\", 250000)\n",
        "    print(my_house.display_info())\n",
        "\n",
        "    my_mansion = Mansion(\"456 Grand Ave\", 1500000, 10)\n",
        "    print(my_mansion.display_info())"
      ],
      "metadata": {
        "id": "4YyndHq3kpGd",
        "colab": {
          "base_uri": "https://localhost:8080/"
        },
        "outputId": "3a411613-d3c8-4e9c-a865-cb35f51c9329"
      },
      "execution_count": 3,
      "outputs": [
        {
          "output_type": "stream",
          "name": "stdout",
          "text": [
            "Address: 123 Main St, Price: Rs.250,000.00\n",
            "Address: 456 Grand Ave, Price: Rs.1,500,000.00, Number of Rooms: 10\n"
          ]
        }
      ]
    },
    {
      "cell_type": "code",
      "source": [],
      "metadata": {
        "id": "RoBmP12aZOhd"
      },
      "execution_count": null,
      "outputs": []
    }
  ]
}